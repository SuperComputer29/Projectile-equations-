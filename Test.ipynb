{
 "cells": [
  {
   "cell_type": "code",
   "execution_count": 23,
   "id": "976a6648-32eb-42df-a157-9ae60606f0ef",
   "metadata": {
    "scrolled": true
   },
   "outputs": [
    {
     "name": "stdout",
     "output_type": "stream",
     "text": [
      "IPython console for SymPy 1.8 (Python 3.9.5-64-bit) (ground types: python)\n",
      "\n",
      "These commands were executed:\n",
      ">>> from __future__ import division\n",
      ">>> from sympy import *\n",
      ">>> x, y, z, t = symbols('x y z t')\n",
      ">>> k, m, n = symbols('k m n', integer=True)\n",
      ">>> f, g, h = symbols('f g h', cls=Function)\n",
      ">>> init_printing()\n",
      "\n",
      "Documentation can be found at https://docs.sympy.org/1.8/\n",
      "\n"
     ]
    }
   ],
   "source": [
    "from sympy import *\n",
    "init_session()\n",
    "\n",
    "V, x, y, g, t, s, r, L, S  = symbols(\"V x y g t s r L S\")\n",
    "#L stands for the length of the catapult's arm\n",
    "#S is the distance between the catapult and the object\n",
    "# x and y are coordinates of our object on the image\n",
    "\n",
    "V_xi = V*sin(s)\n",
    "V_yi = V*cos(s)\n",
    "\n",
    "h = L*sin(s) #height between the catapult and the target\n",
    "t_equation = Eq((g*t**2)/2 - V*cos(s)*t + y - L*sin(s), 0)\n",
    "t_solutions = solve(t_equation, t)\n",
    "T = t_solutions[1]\n",
    "\n",
    "solving_for_s = Eq(V*sin(s)*T - x, 0)\n",
    "s_as_v = solve(solving_for_s, s)\n",
    "\n",
    "\n"
   ]
  },
  {
   "cell_type": "code",
   "execution_count": 25,
   "id": "ea592ce9",
   "metadata": {},
   "outputs": [
    {
     "data": {
      "text/latex": [
       "$\\displaystyle \\left[ \\right]$"
      ],
      "text/plain": [
       "[]"
      ]
     },
     "execution_count": 25,
     "metadata": {},
     "output_type": "execute_result"
    }
   ],
   "source": [
    "s_as_v"
   ]
  },
  {
   "cell_type": "code",
   "execution_count": 26,
   "id": "0b81eaee",
   "metadata": {},
   "outputs": [
    {
     "data": {
      "text/latex": [
       "$\\displaystyle \\frac{V \\left(V \\cos{\\left(s \\right)} + \\sqrt{2 L g \\sin{\\left(s \\right)} + V^{2} \\cos^{2}{\\left(s \\right)} - 2 g y}\\right) \\sin{\\left(s \\right)}}{g} - x = 0$"
      ],
      "text/plain": [
       "  ⎛              ___________________________________⎞     \n",
       "  ⎜             ╱                 2    2            ⎟     \n",
       "V⋅⎝V⋅cos(s) + ╲╱  2⋅L⋅g⋅sin(s) + V ⋅cos (s) - 2⋅g⋅y ⎠⋅sin(\n",
       "──────────────────────────────────────────────────────────\n",
       "                             g                            \n",
       "\n",
       "          \n",
       "          \n",
       "s)        \n",
       "── - x = 0\n",
       "          "
      ]
     },
     "execution_count": 26,
     "metadata": {},
     "output_type": "execute_result"
    }
   ],
   "source": [
    "solving_for_s"
   ]
  },
  {
   "cell_type": "code",
   "execution_count": null,
   "id": "5fb986f5",
   "metadata": {},
   "outputs": [],
   "source": []
  }
 ],
 "metadata": {
  "kernelspec": {
   "display_name": "Python 3 (ipykernel)",
   "language": "python",
   "name": "python3"
  },
  "language_info": {
   "codemirror_mode": {
    "name": "ipython",
    "version": 3
   },
   "file_extension": ".py",
   "mimetype": "text/x-python",
   "name": "python",
   "nbconvert_exporter": "python",
   "pygments_lexer": "ipython3",
   "version": "3.9.5"
  }
 },
 "nbformat": 4,
 "nbformat_minor": 5
}
