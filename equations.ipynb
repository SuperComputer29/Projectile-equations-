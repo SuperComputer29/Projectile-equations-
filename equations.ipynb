{
 "cells": [
  {
   "cell_type": "code",
   "execution_count": null,
   "id": "976a6648-32eb-42df-a157-9ae60606f0ef",
   "metadata": {
    "scrolled": true
   },
   "outputs": [],
   "source": [
    "\n",
    "from sympy import *\n",
    "init_session()\n",
    "\n",
    "V, x, y, g, t, s, r, L, S  = symbols(\"V x y g t s r L S\")\n",
    "#L stands for the length of the catapult's arm  \n",
    "#S is the distance between the catapult and the object\n",
    "# x and y are coordinates of our object on the image\n",
    "# s and r are complimentary\n",
    "\n",
    "\n",
    "V_xi = V*sin(s)\n",
    "V_yi = V*cos(s)\n",
    "\n",
    "h = L*sin(s) #height between the catapult and the target\n",
    "t_equation = Eq((g*t**2)/2 - V*cos(s)*t + y - L*sin(s), 0)\n",
    "t_solutions = solve(t_equation, t)\n",
    "T = t_solutions[1]\n",
    "\n",
    "solving_for_v = Eq(V*sin(s)*T - x, 0)\n",
    "v_as_s = solve(solving_for_v, V)[1] # Expressing the velocity needed to hit the targe in terms of s\n",
    "\n"
   ]
  },
  {
   "cell_type": "code",
   "execution_count": null,
   "id": "77ea56b9",
   "metadata": {},
   "outputs": [],
   "source": [
    "v_as_s"
   ]
  },
  {
   "cell_type": "code",
   "execution_count": null,
   "id": "c65863dc",
   "metadata": {},
   "outputs": [],
   "source": [
    "derivative_v = diff(v_as_s, s) # Derivative of V with respect to s\n",
    "derivative_v_eq_0 = Eq(derivative_v, 0)\n",
    "derivative_v_solutions = solve(derivative_v_eq_0, s) # Solving this equation analytically is literally impossible due to how long it would take so a numerical approximation is in under to solve for s\n",
    "\n"
   ]
  }
 ],
 "metadata": {
  "kernelspec": {
   "display_name": "Python 3.10.5 64-bit (windows store)",
   "language": "python",
   "name": "python3"
  },
  "language_info": {
   "codemirror_mode": {
    "name": "ipython",
    "version": 3
   },
   "file_extension": ".py",
   "mimetype": "text/x-python",
   "name": "python",
   "nbconvert_exporter": "python",
   "pygments_lexer": "ipython3",
   "version": "3.10.6"
  },
  "vscode": {
   "interpreter": {
    "hash": "03fbabb086a3a2bc96b823164b5cd6c27c18b280964896b2d90feb2848bb7c6d"
   }
  }
 },
 "nbformat": 4,
 "nbformat_minor": 5
}
